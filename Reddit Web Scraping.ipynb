{
 "cells": [
  {
   "cell_type": "code",
   "execution_count": 7,
   "metadata": {},
   "outputs": [],
   "source": [
    "#imports\n",
    "import requests\n",
    "import time\n",
    "import pandas as pd\n",
    "import json\n",
    "from bs4 import BeautifulSoup"
   ]
  },
  {
   "cell_type": "markdown",
   "metadata": {},
   "source": [
    "Creating Urls to gather data from"
   ]
  },
  {
   "cell_type": "code",
   "execution_count": 3,
   "metadata": {},
   "outputs": [],
   "source": [
    "url_base = 'https://www.reddit.com/r/'\n",
    "url_tail = '.json'\n",
    "\n",
    "urls = []\n",
    "subs = ['smashbros', 'Warhammer40k', 'paintball']\n",
    "\n",
    "for sub in subs:\n",
    "    urls.append(url_base + sub + url_tail)"
   ]
  },
  {
   "cell_type": "code",
   "execution_count": 3,
   "metadata": {},
   "outputs": [],
   "source": [
    "#creating agent name\n",
    "headers = {'User-agent': 'Some Bot Name'}"
   ]
  },
  {
   "cell_type": "markdown",
   "metadata": {},
   "source": [
    "Data Collection:"
   ]
  },
  {
   "cell_type": "code",
   "execution_count": 4,
   "metadata": {},
   "outputs": [],
   "source": [
    "#from Riley\n",
    "\n",
    "#uses length of urls instead of iterating so that subs list can be\n",
    "#used to name the csv file\n",
    "for i in range(len(urls)):\n",
    "    posts = []\n",
    "    after = None\n",
    "\n",
    "    #attempt to get 1000 posts, 40 tries of 25 posts each\n",
    "    for _ in range(40):\n",
    "        if after == None:\n",
    "            params = {}\n",
    "        else:\n",
    "            params = {'after': after}\n",
    "        res = requests.get(urls[i], params=params, headers=headers)\n",
    "        if res.status_code == 200:\n",
    "            the_json = res.json()\n",
    "            posts.extend(the_json['data']['children'])\n",
    "            after = the_json['data']['after']\n",
    "        else:\n",
    "            print(res.status_code)\n",
    "            break\n",
    "        time.sleep(1)\n",
    "\n",
    "    df = pd.DataFrame(posts)\n",
    "\n",
    "    #formatting data\n",
    "    df['data'] = df['data'].apply(lambda x: x['title']+': '+x['selftext'])\n",
    "    df['data'] = df['data'].apply(lambda x: x.replace('\\n',''))\n",
    "    df.drop(columns=['kind'], inplace=True)\n",
    "    df.to_csv(f'{subs[i]}.csv', index=False)"
   ]
  }
 ],
 "metadata": {
  "kernelspec": {
   "display_name": "Python 3",
   "language": "python",
   "name": "python3"
  },
  "language_info": {
   "codemirror_mode": {
    "name": "ipython",
    "version": 3
   },
   "file_extension": ".py",
   "mimetype": "text/x-python",
   "name": "python",
   "nbconvert_exporter": "python",
   "pygments_lexer": "ipython3",
   "version": "3.6.8"
  }
 },
 "nbformat": 4,
 "nbformat_minor": 2
}
